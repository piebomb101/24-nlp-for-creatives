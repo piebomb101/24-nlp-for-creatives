{
 "cells": [
  {
   "cell_type": "markdown",
   "metadata": {},
   "source": [
    "# Cut up machine \n",
    "\n",
    "Taken from the excellent [Code as a Creative Medium Book](https://libsearch.arts.ac.uk/cgi-bin/koha/opac-detail.pl?biblionumber=1457382&query_desc=kw%2Cwrdl%3A%20code%20as%20creative%20medium) by Golan Levin and Tega Brain, we are going to use some code that takes a piece of text and rearranges it!\n",
    "\n",
    "```\n",
    "In the Dada manifesto, Tristan Trza describes using a newspaper, scissors and some gentle shaking to make nonsense poetry. Here we have some computer code that does the same thing. \n",
    "```\n",
    "\n",
    "\n",
    "We first need to run the next cell to import a [python function](https://www.w3schools.com/python/python_functions.asp) that allows us to generate (pseudo)random numbers."
   ]
  },
  {
   "cell_type": "code",
   "execution_count": 1,
   "metadata": {},
   "outputs": [],
   "source": [
    "from numpy.random import randint as random"
   ]
  },
  {
   "cell_type": "markdown",
   "metadata": {},
   "source": [
    "In this next cell we are defining a function that takes text all on one line and formats it so that each sentence is on it's own line. Running this cell won't do anything for now, but it will allow us use this later on in our [code for the cut up machine](#cut-up-words):"
   ]
  },
  {
   "cell_type": "code",
   "execution_count": 2,
   "metadata": {},
   "outputs": [],
   "source": [
    "def add_newline_after_full_stops(input_string):\n",
    "    sentences = input_string.split('.')\n",
    "    result = '.\\n'.join(sentences)\n",
    "    return result"
   ]
  },
  {
   "cell_type": "markdown",
   "metadata": {},
   "source": [
    "If your text is has multiple lines, you will have to save it as a string with **3 quotation marks** (instead of the normal 2)\n",
    "\n",
    "```\n",
    "    my_text = \"\"\"a string that is very long \n",
    "                 on many lines \n",
    "                 needs 3 quotes\n",
    "                 at the start and end\"\"\"\n",
    "\n",
    "```\n",
    "\n",
    "Once you have the code running, come back to this cell and replace this text with something you have found from the internet, it could be a [news article](https://www.bbc.co.uk/news), [wikipedia entry](https://www.wikipedia.org/) or text from [an ebook](https://www.gutenberg.org/).\n",
    "\n",
    "<a id='source-text'></a>"
   ]
  },
  {
   "cell_type": "code",
   "execution_count": 3,
   "metadata": {},
   "outputs": [],
   "source": [
    "#Copy your text here\n",
    "source_text = \"\"\"Governments of the Industrial World, you weary giants of flesh and steel, I come from Cyberspace, the new home of Mind. On behalf of the future, I ask you of the past to leave us alone. You are not welcome among us. You have no sovereignty where we gather.\n",
    "We have no elected government, nor are we likely to have one, so I address you with no greater authority than that with which liberty itself always speaks. I declare the global social space we are building to be naturally independent of the tyrannies you seek to impose on us. You have no moral right to rule us nor do you possess any methods of enforcement we have true reason to fear.\n",
    "\n",
    "Governments derive their just powers from the consent of the governed. You have neither solicited nor received ours. We did not invite you. You do not know us, nor do you know our world. Cyberspace does not lie within your borders. Do not think that you can build it, as though it were a public construction project. You cannot. It is an act of nature and it grows itself through our collective actions.\"\"\""
   ]
  },
  {
   "cell_type": "markdown",
   "metadata": {},
   "source": [
    "This cell we define our function for making our cut up poetry. It takes our [source text](#source-text) and splits it up into individual words. It then randomly selects words from this assortment and adds them one by one to a new string called `poem`, we keep doing this a set number of times defined in the variable `poem_length`:\n",
    "\n",
    "<a id='cut-up-words'></a>"
   ]
  },
  {
   "cell_type": "code",
   "execution_count": 4,
   "metadata": {},
   "outputs": [],
   "source": [
    "def cut_up_poem_words(source_text, poem_length):\n",
    "    \n",
    "    words = source_text.split(' ')\n",
    "    num_words = len(words)\n",
    "    poem = ''\n",
    "    \n",
    "    for i in range(poem_length):\n",
    "        new_word = words[random(num_words-1)]\n",
    "        poem += new_word\n",
    "        poem += ' '\n",
    "\n",
    "    formatted_poem = add_newline_after_full_stops(poem)\n",
    "    return formatted_poem\n"
   ]
  },
  {
   "cell_type": "markdown",
   "metadata": {},
   "source": [
    "We can now use our function `cut_up_poem_words` to make new poems. Try changing the number that we pass into the function to make your poems longer or shorter! Every time you re-run the cell you will get a different poem out. "
   ]
  },
  {
   "cell_type": "code",
   "execution_count": 5,
   "metadata": {},
   "outputs": [
    {
     "name": "stdout",
     "output_type": "stream",
     "text": [
      "were you declare do tyrannies that think Governments know invite steel, flesh public weary space are within think nor us, ours.\n",
      " itself where welcome though ours.\n",
      " us not I moral of of powers reason to giants welcome speaks.\n",
      " speaks.\n",
      " to \n"
     ]
    }
   ],
   "source": [
    "poem = cut_up_poem_words(source_text, 40)\n",
    "print(poem)"
   ]
  },
  {
   "cell_type": "markdown",
   "metadata": {},
   "source": [
    "Now lets define a slightly different function, this time instead of words we will cut up and rearrange setences, we will call this function `cut_up_poem_sentences`: \n",
    "\n",
    "<a id='cut-up-sentences'></a>"
   ]
  },
  {
   "cell_type": "code",
   "execution_count": 6,
   "metadata": {},
   "outputs": [],
   "source": [
    "def cut_up_poem_sentences(source_text, poem_length):\n",
    "    \n",
    "    words = source_text.split('.')\n",
    "    num_words = len(words)\n",
    "    poem = ''\n",
    "    \n",
    "    for i in range(poem_length):\n",
    "        new_sentence = words[random(num_words-1)]\n",
    "        poem += new_sentence\n",
    "        poem += '.'\n",
    "\n",
    "    formatted_poem = add_newline_after_full_stops(poem)\n",
    "    return formatted_poem"
   ]
  },
  {
   "cell_type": "markdown",
   "metadata": {},
   "source": [
    "Run this next cell to see our poem generated by rearranging setences. You probably want to use a smaller number for `poem_length`, as this time the length of the poem is based on the number of whole sentences instead of words!"
   ]
  },
  {
   "cell_type": "code",
   "execution_count": 8,
   "metadata": {},
   "outputs": [
    {
     "name": "stdout",
     "output_type": "stream",
     "text": [
      " I declare the global social space we are building to be naturally independent of the tyrannies you seek to impose on us.\n",
      "\n",
      "\n",
      "Governments derive their just powers from the consent of the governed.\n",
      " Cyberspace does not lie within your borders.\n",
      "\n",
      "We have no elected government, nor are we likely to have one, so I address you with no greater authority than that with which liberty itself always speaks.\n",
      " On behalf of the future, I ask you of the past to leave us alone.\n",
      "\n"
     ]
    }
   ],
   "source": [
    "poem = cut_up_poem_sentences(source_text, 5)\n",
    "print(poem)"
   ]
  },
  {
   "cell_type": "markdown",
   "metadata": {},
   "source": [
    "Compare the poems that you get from the [`cut_up_poem_words`](#cut-up-words) and the [`cut_up_poem_sentences`](#cut-up-sentences) functions. How do they compare? Does one make more meaningful text than the other? Does one make better poetry than the other?\n",
    "\n",
    "Try changing the [source text](#source-text) for making the poems, how does that effect the kinds of poems you can generate? You can even try it with text in other languages!"
   ]
  }
 ],
 "metadata": {
  "kernelspec": {
   "display_name": "nlp",
   "language": "python",
   "name": "python3"
  },
  "language_info": {
   "codemirror_mode": {
    "name": "ipython",
    "version": 3
   },
   "file_extension": ".py",
   "mimetype": "text/x-python",
   "name": "python",
   "nbconvert_exporter": "python",
   "pygments_lexer": "ipython3",
   "version": "3.11.9"
  },
  "orig_nbformat": 4
 },
 "nbformat": 4,
 "nbformat_minor": 2
}
